{
 "cells": [
  {
   "cell_type": "markdown",
   "source": [
    "# Check GPU"
   ],
   "metadata": {
    "collapsed": false,
    "pycharm": {
     "name": "#%% md\n"
    }
   }
  },
  {
   "cell_type": "code",
   "execution_count": 1,
   "outputs": [
    {
     "name": "stdout",
     "output_type": "stream",
     "text": [
      "Fri Nov  4 10:27:23 2022       \n",
      "+-----------------------------------------------------------------------------+\n",
      "| NVIDIA-SMI 516.59       Driver Version: 516.59       CUDA Version: 11.7     |\n",
      "|-------------------------------+----------------------+----------------------+\n",
      "| GPU  Name            TCC/WDDM | Bus-Id        Disp.A | Volatile Uncorr. ECC |\n",
      "| Fan  Temp  Perf  Pwr:Usage/Cap|         Memory-Usage | GPU-Util  Compute M. |\n",
      "|                               |                      |               MIG M. |\n",
      "|===============================+======================+======================|\n",
      "|   0  NVIDIA GeForce ... WDDM  | 00000000:01:00.0  On |                  N/A |\n",
      "|  0%   45C    P8    10W / 170W |    335MiB / 12288MiB |      2%      Default |\n",
      "|                               |                      |                  N/A |\n",
      "+-------------------------------+----------------------+----------------------+\n",
      "                                                                               \n",
      "+-----------------------------------------------------------------------------+\n",
      "| Processes:                                                                  |\n",
      "|  GPU   GI   CI        PID   Type   Process name                  GPU Memory |\n",
      "|        ID   ID                                                   Usage      |\n",
      "|=============================================================================|\n",
      "|    0   N/A  N/A      1992    C+G   ...y\\ShellExperienceHost.exe    N/A      |\n",
      "|    0   N/A  N/A      2484    C+G   ...lPanel\\SystemSettings.exe    N/A      |\n",
      "|    0   N/A  N/A      4484    C+G   ...e\\PhoneExperienceHost.exe    N/A      |\n",
      "|    0   N/A  N/A     10716    C+G   ...zpdnekdrzrea0\\Spotify.exe    N/A      |\n",
      "|    0   N/A  N/A     12048    C+G   ...artMenuExperienceHost.exe    N/A      |\n",
      "|    0   N/A  N/A     14104    C+G   ...rograms\\Notion\\Notion.exe    N/A      |\n",
      "|    0   N/A  N/A     19948    C+G   ...1\\jbr\\bin\\jcef_helper.exe    N/A      |\n",
      "|    0   N/A  N/A     24596    C+G   ...418.26\\msedgewebview2.exe    N/A      |\n",
      "|    0   N/A  N/A     26388    C+G   ...ck\\app-4.29.144\\slack.exe    N/A      |\n",
      "|    0   N/A  N/A     28728    C+G   ...8bbwe\\WindowsTerminal.exe    N/A      |\n",
      "|    0   N/A  N/A     29540    C+G   C:\\Windows\\explorer.exe         N/A      |\n",
      "|    0   N/A  N/A     32092    C+G   ...logioptionsplus_agent.exe    N/A      |\n",
      "|    0   N/A  N/A     34596    C+G   ...p-3.1.2\\GitHubDesktop.exe    N/A      |\n",
      "|    0   N/A  N/A     34768    C+G   ...n1h2txyewy\\SearchHost.exe    N/A      |\n",
      "|    0   N/A  N/A     35708    C+G   ...2txyewy\\TextInputHost.exe    N/A      |\n",
      "+-----------------------------------------------------------------------------+\n"
     ]
    }
   ],
   "source": [
    "!nvidia-smi"
   ],
   "metadata": {
    "collapsed": false,
    "pycharm": {
     "name": "#%%\n"
    }
   }
  },
  {
   "cell_type": "markdown",
   "source": [
    "# Launch web ui. You will get a link to nnn.gradio.app, follow it.\n",
    "\n",
    "# Commandline arguments are:\n",
    "  - `--share` - create online gradio.app link\n",
    "  - `--gradio-debug` - print outputs to console\n",
    "  - `--gradio-auth me:qwerty` - add authentication to gradio: username me, password qwerty"
   ],
   "metadata": {
    "collapsed": false,
    "pycharm": {
     "name": "#%% md\n"
    }
   }
  },
  {
   "cell_type": "code",
   "execution_count": 4,
   "outputs": [
    {
     "name": "stderr",
     "output_type": "stream",
     "text": [
      "'COMMANDLINE_ARGS' is not recognized as an internal or external command,\n",
      "operable program or batch file.\n"
     ]
    }
   ],
   "source": [
    "# %cd /stable-diffusion-webui\n",
    "\n",
    "# hacks to load model in colab\n",
    "# !sed -i 's/map_location=\"cpu\"/map_location=\"cuda\"/g' /stable-diffusion-webui/modules/sd_models.py\n",
    "\n",
    "# Use novelai stable-diffusion-private (maybe slow, optional)\n",
    "# !mkdir -p repositories/stable-diffusion\n",
    "# !curl -L https://cloudflare-ipfs.com/ipfs/bafybeiauciguui6skzcwg23mjprjbuqhfzudms2gfi4rna55bygc3s6yxa/stable-diffusion-private.tar | tar x -C repositories/stable-diffusion\n",
    "# !git config --global --add safe.directory /content/stable-diffusion-webui/repositories/stable-diffusion\n",
    "# !pip3 install -U --pre triton icecream xformers\n",
    "# !sed -i 's/transformer\\.text_model/transformer/g' modules/sd_hijack.py\n",
    "# !sed -i 's/self.model.device/\"cuda\"/g' /content/stable-diffusion-webui/repositories/stable-diffusion/ldm/models/diffusion/*.py\n",
    "# !COMMANDLINE_ARGS=\"--share --gradio-debug --config config.yaml --xformers --vae-path /content/animevae.pt\" \\\n",
    "#  REQS_FILE=\"requirements.txt\" STABLE_DIFFUSION_COMMIT_HASH=\"5d95f1742ab1831d99df91c1a469b2b56a61eebf\" python launch.py\n",
    "\n",
    "# ...Or use normal stable-diffusion\n",
    "!pip install -U -qq pip\n",
    "!pip install -qq -r requirements.txt\n",
    "!pip install -qq pytorch_lightning==1.7.7\n",
    "!echo \"\" > /tmp/requirements_empty.txt\n",
    "!COMMANDLINE_ARGS=\"--gradio-debug --config config.yaml --vae-path /models/VAE/animevae.pt\" REQS_FILE=\"/tmp/requirements_empty.txt\" python launch.py"
   ],
   "metadata": {
    "collapsed": false,
    "pycharm": {
     "name": "#%%\n"
    }
   }
  }
 ],
 "metadata": {
  "kernelspec": {
   "display_name": "Python 3",
   "language": "python",
   "name": "python3"
  },
  "language_info": {
   "codemirror_mode": {
    "name": "ipython",
    "version": 2
   },
   "file_extension": ".py",
   "mimetype": "text/x-python",
   "name": "python",
   "nbconvert_exporter": "python",
   "pygments_lexer": "ipython2",
   "version": "2.7.6"
  }
 },
 "nbformat": 4,
 "nbformat_minor": 0
}