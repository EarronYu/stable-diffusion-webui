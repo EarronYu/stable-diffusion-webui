{
 "cells": [
  {
   "cell_type": "markdown",
   "source": [
    "# Check GPU"
   ],
   "metadata": {
    "collapsed": false,
    "pycharm": {
     "name": "#%% md\n"
    }
   }
  },
  {
   "cell_type": "code",
   "execution_count": null,
   "outputs": [],
   "source": [
    "!nvidia-smi"
   ],
   "metadata": {
    "collapsed": false,
    "pycharm": {
     "name": "#%%\n"
    }
   }
  },
  {
   "cell_type": "markdown",
   "source": [
    "Launch web ui. You will get a link to nnn.gradio.app, follow it.\n",
    "\n",
    "Commandline arguments are:\n",
    "  - `--share` - create online gradio.app link\n",
    "  - `--gradio-debug` - print outputs to console\n",
    "  - `--gradio-auth me:qwerty` - add authentication to gradio: username me, password qwerty"
   ],
   "metadata": {
    "collapsed": false,
    "pycharm": {
     "name": "#%% md\n"
    }
   }
  },
  {
   "cell_type": "code",
   "execution_count": null,
   "outputs": [],
   "source": [
    "%cd /stable-diffusion-webui\n",
    "\n",
    "# hacks to load model in colab\n",
    "!sed -i 's/map_location=\"cpu\"/map_location=\"cuda\"/g' /stable-diffusion-webui/modules/sd_models.py\n",
    "\n",
    "# Use novelai stable-diffusion-private (maybe slow, optional)\n",
    "# !mkdir -p repositories/stable-diffusion\n",
    "# !curl -L https://cloudflare-ipfs.com/ipfs/bafybeiauciguui6skzcwg23mjprjbuqhfzudms2gfi4rna55bygc3s6yxa/stable-diffusion-private.tar | tar x -C repositories/stable-diffusion\n",
    "# !git config --global --add safe.directory /content/stable-diffusion-webui/repositories/stable-diffusion\n",
    "# !pip3 install -U --pre triton icecream xformers\n",
    "# !sed -i 's/transformer\\.text_model/transformer/g' modules/sd_hijack.py\n",
    "# !sed -i 's/self.model.device/\"cuda\"/g' /content/stable-diffusion-webui/repositories/stable-diffusion/ldm/models/diffusion/*.py\n",
    "# !COMMANDLINE_ARGS=\"--share --gradio-debug --config config.yaml --xformers --vae-path /content/animevae.pt\" \\\n",
    "#  REQS_FILE=\"requirements.txt\" STABLE_DIFFUSION_COMMIT_HASH=\"5d95f1742ab1831d99df91c1a469b2b56a61eebf\" python launch.py\n",
    "\n",
    "# ...Or use normal stable-diffusion\n",
    "!pip install -U -qq pip\n",
    "!pip install -qq -r requirements.txt\n",
    "!pip install -qq pytorch_lightning==1.7.7\n",
    "!echo \"\" > /tmp/requirements_empty.txt\n",
    "!COMMANDLINE_ARGS=\"--gradio-debug --config config.yaml --vae-path /content/animevae.pt\" REQS_FILE=\"/tmp/requirements_empty.txt\" python launch.py"
   ],
   "metadata": {
    "collapsed": false,
    "pycharm": {
     "name": "#%%\n"
    }
   }
  }
 ],
 "metadata": {
  "kernelspec": {
   "display_name": "Python 3",
   "language": "python",
   "name": "python3"
  },
  "language_info": {
   "codemirror_mode": {
    "name": "ipython",
    "version": 2
   },
   "file_extension": ".py",
   "mimetype": "text/x-python",
   "name": "python",
   "nbconvert_exporter": "python",
   "pygments_lexer": "ipython2",
   "version": "2.7.6"
  }
 },
 "nbformat": 4,
 "nbformat_minor": 0
}